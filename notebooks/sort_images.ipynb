{
 "cells": [
  {
   "cell_type": "code",
   "id": "initial_id",
   "metadata": {
    "collapsed": true,
    "ExecuteTime": {
     "end_time": "2025-02-07T18:07:55.058032Z",
     "start_time": "2025-02-07T18:07:55.055575Z"
    }
   },
   "source": "import os",
   "outputs": [],
   "execution_count": 1
  },
  {
   "metadata": {
    "ExecuteTime": {
     "end_time": "2025-02-07T18:31:40.920305Z",
     "start_time": "2025-02-07T18:31:40.916679Z"
    }
   },
   "cell_type": "code",
   "source": [
    "# Validate src paths\n",
    "src_cbb_path = '../data/unsorted/cbb'\n",
    "src_cbsd_path = '../data/unsorted/cbsd'\n",
    "src_cgm_path = '../data/unsorted/cgm'\n",
    "src_cmd_path = '../data/unsorted/cmd'\n",
    "src_healthy_path = '../data/unsorted/healthy'\n",
    "\n",
    "print(os.path.exists(src_cbb_path))\n",
    "print(os.path.exists(src_cbsd_path))\n",
    "print(os.path.exists(src_cgm_path))\n",
    "print(os.path.exists(src_cmd_path))\n",
    "print(os.path.exists(src_healthy_path))"
   ],
   "id": "627587b44c1ee0f2",
   "outputs": [
    {
     "name": "stdout",
     "output_type": "stream",
     "text": [
      "True\n",
      "True\n",
      "True\n",
      "True\n",
      "True\n"
     ]
    }
   ],
   "execution_count": 16
  },
  {
   "metadata": {
    "ExecuteTime": {
     "end_time": "2025-02-07T18:31:42.495652Z",
     "start_time": "2025-02-07T18:31:42.492061Z"
    }
   },
   "cell_type": "code",
   "source": [
    "# Validate dest paths -> train\n",
    "train_cbb_path = '../data/train/cbb'\n",
    "train_cbsd_path = '../data/train/cbsd'\n",
    "train_cgm_path = '../data/train/cgm'\n",
    "train_cmd_path = '../data/train/cmd'\n",
    "train_healthy_path = '../data/train/healthy'\n",
    "\n",
    "print(os.path.exists(train_cbb_path))\n",
    "print(os.path.exists(train_cbsd_path))\n",
    "print(os.path.exists(train_cgm_path))\n",
    "print(os.path.exists(train_cmd_path))\n",
    "print(os.path.exists(train_healthy_path))"
   ],
   "id": "257c8780de6f29a1",
   "outputs": [
    {
     "name": "stdout",
     "output_type": "stream",
     "text": [
      "True\n",
      "True\n",
      "True\n",
      "True\n",
      "True\n"
     ]
    }
   ],
   "execution_count": 17
  },
  {
   "metadata": {
    "ExecuteTime": {
     "end_time": "2025-02-07T18:31:44.052047Z",
     "start_time": "2025-02-07T18:31:44.048793Z"
    }
   },
   "cell_type": "code",
   "source": [
    "# Validate dest paths -> test\n",
    "test_cbb_path = '../data/test/cbb'\n",
    "test_cbsd_path = '../data/test/cbsd'\n",
    "test_cgm_path = '../data/test/cgm'\n",
    "test_cmd_path = '../data/test/cmd'\n",
    "test_healthy_path = '../data/test/healthy'\n",
    "\n",
    "print(os.path.exists(test_cbb_path))\n",
    "print(os.path.exists(test_cbsd_path))\n",
    "print(os.path.exists(test_cgm_path))\n",
    "print(os.path.exists(test_cmd_path))\n",
    "print(os.path.exists(test_healthy_path))"
   ],
   "id": "923386f86e14274c",
   "outputs": [
    {
     "name": "stdout",
     "output_type": "stream",
     "text": [
      "True\n",
      "True\n",
      "True\n",
      "True\n",
      "True\n"
     ]
    }
   ],
   "execution_count": 18
  },
  {
   "metadata": {
    "ExecuteTime": {
     "end_time": "2025-02-07T18:31:47.281055Z",
     "start_time": "2025-02-07T18:31:47.261453Z"
    }
   },
   "cell_type": "code",
   "source": [
    "# Compute test train split for each class\n",
    "split_percentage = 0.8\n",
    "\n",
    "cbb_train_count = int(len(os.listdir(src_cbb_path)) * split_percentage)\n",
    "cbsd_train_count = int(len(os.listdir(src_cbsd_path)) * split_percentage)\n",
    "cgm_train_count = int(len(os.listdir(src_cgm_path)) * split_percentage)\n",
    "cmd_train_count = int(len(os.listdir(src_cmd_path)) * split_percentage)\n",
    "healthy_train_count = int(len(os.listdir(src_healthy_path)) * split_percentage)\n",
    "\n",
    "print(cbb_train_count)\n",
    "print(cbsd_train_count)\n",
    "print(cgm_train_count)\n",
    "print(cmd_train_count)\n",
    "print(healthy_train_count)"
   ],
   "id": "fa50432967883008",
   "outputs": [
    {
     "name": "stdout",
     "output_type": "stream",
     "text": [
      "372\n",
      "1154\n",
      "618\n",
      "2126\n",
      "252\n"
     ]
    }
   ],
   "execution_count": 19
  },
  {
   "metadata": {
    "ExecuteTime": {
     "end_time": "2025-02-07T18:32:49.045396Z",
     "start_time": "2025-02-07T18:32:49.039179Z"
    }
   },
   "cell_type": "code",
   "source": [
    "# Image migrator function\n",
    "def migrate_images(unsorted, train_dest, test_dest, switch_count):\n",
    "    for count, file in enumerate(os.listdir(unsorted)):\n",
    "        # Determine paths\n",
    "        src = os.path.join(unsorted, file)\n",
    "        dst = os.path.join(train_dest if count <= switch_count else test_dest, file)\n",
    "\n",
    "        # Move\n",
    "        os.rename(src, dst)\n"
   ],
   "id": "3966e7c7ee957a2",
   "outputs": [],
   "execution_count": 22
  },
  {
   "metadata": {
    "ExecuteTime": {
     "end_time": "2025-02-07T18:32:51.047544Z",
     "start_time": "2025-02-07T18:32:50.522910Z"
    }
   },
   "cell_type": "code",
   "source": [
    "# Migrate images\n",
    "migrate_images(src_cbb_path, train_cbb_path, test_cbb_path, cbb_train_count)\n",
    "migrate_images(src_cbsd_path, train_cbsd_path, test_cbsd_path, cbsd_train_count)\n",
    "migrate_images(src_cgm_path, train_cgm_path, test_cgm_path, cgm_train_count)\n",
    "migrate_images(src_cmd_path, train_cmd_path, test_cmd_path, cmd_train_count)\n",
    "migrate_images(src_healthy_path, train_healthy_path, test_healthy_path, healthy_train_count)"
   ],
   "id": "d86f02e70a066058",
   "outputs": [],
   "execution_count": 23
  }
 ],
 "metadata": {
  "kernelspec": {
   "display_name": "Python 3",
   "language": "python",
   "name": "python3"
  },
  "language_info": {
   "codemirror_mode": {
    "name": "ipython",
    "version": 2
   },
   "file_extension": ".py",
   "mimetype": "text/x-python",
   "name": "python",
   "nbconvert_exporter": "python",
   "pygments_lexer": "ipython2",
   "version": "2.7.6"
  }
 },
 "nbformat": 4,
 "nbformat_minor": 5
}
