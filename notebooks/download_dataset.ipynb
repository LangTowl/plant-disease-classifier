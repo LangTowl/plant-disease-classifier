{
 "cells": [
  {
   "cell_type": "code",
   "id": "initial_id",
   "metadata": {
    "collapsed": true,
    "ExecuteTime": {
     "end_time": "2025-02-07T16:27:23.860503Z",
     "start_time": "2025-02-07T16:27:23.857876Z"
    }
   },
   "source": "import os",
   "outputs": [],
   "execution_count": 1
  },
  {
   "metadata": {
    "ExecuteTime": {
     "end_time": "2025-02-07T16:27:25.149469Z",
     "start_time": "2025-02-07T16:27:25.147Z"
    }
   },
   "cell_type": "code",
   "source": [
    "# Verify path validity\n",
    "print('Path Exists' if os.path.exists('../.kaggle/kaggle.json') else 'Path Does Not Exist')"
   ],
   "id": "5ef9dea1784e8080",
   "outputs": [
    {
     "name": "stdout",
     "output_type": "stream",
     "text": [
      "Path Exists\n"
     ]
    }
   ],
   "execution_count": 2
  },
  {
   "metadata": {
    "ExecuteTime": {
     "end_time": "2025-02-07T16:27:34.001143Z",
     "start_time": "2025-02-07T16:27:33.998368Z"
    }
   },
   "cell_type": "code",
   "source": [
    "# Specify path to Kaggle API token\n",
    "os.environ['KAGGLE_CONFIG_DIR'] = '../.kaggle'"
   ],
   "id": "903055f5c9678453",
   "outputs": [],
   "execution_count": 3
  },
  {
   "metadata": {
    "ExecuteTime": {
     "end_time": "2025-02-07T16:27:44.571481Z",
     "start_time": "2025-02-07T16:27:44.440213Z"
    }
   },
   "cell_type": "code",
   "source": [
    "# Set file permissions\n",
    "!chmod 600 ../.kaggle/kaggle.json"
   ],
   "id": "689aed0f644efa2e",
   "outputs": [],
   "execution_count": 4
  },
  {
   "metadata": {
    "ExecuteTime": {
     "end_time": "2025-02-07T16:30:39.069982Z",
     "start_time": "2025-02-07T16:28:24.384617Z"
    }
   },
   "cell_type": "code",
   "source": [
    "# Set file permissions\n",
    "!kaggle competitions download -c cassava-disease"
   ],
   "id": "783b57925bd41ed7",
   "outputs": [
    {
     "name": "stdout",
     "output_type": "stream",
     "text": [
      "Downloading cassava-disease.zip to /Users/langtowl/Desktop/plant classifier/notebooks\r\n",
      "100%|██████████████████████████████████████| 2.30G/2.30G [02:12<00:00, 21.1MB/s]\r\n",
      "100%|██████████████████████████████████████| 2.30G/2.30G [02:12<00:00, 18.6MB/s]\r\n"
     ]
    }
   ],
   "execution_count": 5
  }
 ],
 "metadata": {
  "kernelspec": {
   "display_name": "Python 3",
   "language": "python",
   "name": "python3"
  },
  "language_info": {
   "codemirror_mode": {
    "name": "ipython",
    "version": 2
   },
   "file_extension": ".py",
   "mimetype": "text/x-python",
   "name": "python",
   "nbconvert_exporter": "python",
   "pygments_lexer": "ipython2",
   "version": "2.7.6"
  }
 },
 "nbformat": 4,
 "nbformat_minor": 5
}
